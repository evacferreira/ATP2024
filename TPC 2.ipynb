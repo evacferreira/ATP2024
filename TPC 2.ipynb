{
 "cells": [
  {
   "cell_type": "markdown",
   "id": "1e545158",
   "metadata": {},
   "source": [
    "# Aula Prática 2 (guião)\n",
    "### Semana de 16 a 20 de Setembro de 2024\n",
    "### José Carlos Ramalho e Luís Cunha\n",
    "### Sinopsis:\n",
    "Algoritmos de cálculo numérico envolvendo estruturas condicionais (if-elif-else) e cíclicas simples (while)."
   ]
  },
  {
   "cell_type": "markdown",
   "id": "81703f1b",
   "metadata": {},
   "source": [
    "### TPC2: Adivinha o número\n",
    "- Crie um programa em Python para jogar o jogo \"Adivinha o número\":\n",
    "    - O jogo pode ter 2 modalidades: computador pensa num número (entre 0 e 100), utilizador tenta adivinhar; ou, o utilizador pensa num número (entre 0 e 100) e o computador tenta adivinhar;\n",
    "    - Quem tenta adivinhar responde com uma das afirmações: \"Acertou\", \"O número que pensei é Maior\" ou \"O número que pensei é Menor\";\n",
    "    - Uma vez descoberto o número o programa deverá terminar imprimindo o número de tentativas que quem adivinhou usou para chegar ao resultado."
   ]
  },
  {
   "cell_type": "code",
   "execution_count": 4,
   "id": "991080bb",
   "metadata": {},
   "outputs": [
    {
     "name": "stdout",
     "output_type": "stream",
     "text": [
      "Bem-vindo!Escolha o modo de jogo que pretende jogar.\n",
      "Escolha um número entre 0 e 100 para que o computador adivinhe.\n",
      "O computador adivinhou o teu número em 7 tentativas\n"
     ]
    }
   ],
   "source": [
    "print (\"Bem-vindo!Escolha o modo de jogo que pretende jogar.\")\n",
    "modojogo = int(input(\"Qual o modo que quer escolher? 0 - adivinha o número do computador; 1 - o computador adivinha o teu número\"))\n",
    "menor = 0\n",
    "maior = 100\n",
    "tentativas = 0\n",
    "import random\n",
    "if modojogo == 0:\n",
    "    númeropc = int(random.randrange(0,100))\n",
    "    x= int(input(\"escolhe um número\"))\n",
    "    while x != númeropc:\n",
    "        tentativas=tentativas +1\n",
    "        if númeropc < x:\n",
    "          print(\"o número é menor que \" + str(x))\n",
    "        elif númeropc > x:\n",
    "          print (\"o número é maior que \" + str(x))      \n",
    "        x=int(input(\"Tente novamente!Escolha outro número.\"))\n",
    "    print(\"Parabéns!Acertaste no número em \" + str(tentativas) + \" tentativas\")\n",
    "elif modojogo == 1:\n",
    "    print (\"Escolha um número entre 0 e 100 para que o computador adivinhe.\")\n",
    "    maior = 100\n",
    "    menor = 0\n",
    "    resposta = str()\n",
    "    acertou = str(\"sim\")\n",
    "    while resposta != acertou:\n",
    "      x = int (( maior + menor) / 2 )\n",
    "      resposta = input(\"o seu número é \" + str(x) + \"?\")\n",
    "      if resposta == \"maior\":\n",
    "        menor = x\n",
    "      elif resposta == \"menor\":\n",
    "        maior = x\n",
    "      tentativas= tentativas + 1\n",
    "    print (\"O computador adivinhou o teu número em \" + str(tentativas) + \" tentativas\")"
   ]
  }
 ],
 "metadata": {
  "kernelspec": {
   "display_name": "Python 3.9.1 64-bit",
   "language": "python",
   "name": "python3"
  },
  "language_info": {
   "codemirror_mode": {
    "name": "ipython",
    "version": 3
   },
   "file_extension": ".py",
   "mimetype": "text/x-python",
   "name": "python",
   "nbconvert_exporter": "python",
   "pygments_lexer": "ipython3",
   "version": "3.11.5"
  },
  "vscode": {
   "interpreter": {
    "hash": "aee8b7b246df8f9039afb4144a1f6fd8d2ca17a180786b69acc140d282b71a49"
   }
  }
 },
 "nbformat": 4,
 "nbformat_minor": 5
}
