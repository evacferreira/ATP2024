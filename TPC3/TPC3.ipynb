{
 "cells": [
  {
   "cell_type": "markdown",
   "id": "1cf1b437",
   "metadata": {},
   "source": [
    "## TPC3: Jogo dos 21 fósforos\n",
    "\n",
    "Desenvolve em Python o código necessário para o jogo dos 21 fósforos: \n",
    "\n",
    "### O jogo\n",
    "\n",
    "* No início do jogo, há 21 fósforos;\n",
    "* Cada jogador (computador ou utilizador), pode tirar 1, 2, 3 ou 4 fósforos quando for a sua vez de jogar;\n",
    "* Os jogadores jogam alternadamente;\n",
    "* **Quem tirar o último fósforo perde!**\n",
    "\n",
    "### O programa \n",
    "\n",
    "* O jogo deverá ter dois modos: o jogador joga em primeiro lugar e o computador começa a jogar em segundo lugar e, no segundo modo, o computador começa em primeiro; \n",
    "* Quando o computador começa a jogar em segundo lugar, deve ganhar sempre o jogo;\n",
    "* Quando o computador começa a jogar em primeiro lugar, se o utilizador cometer um erro de cálculo, o computador deverá passar para a posição de vencedor e ganhar o jogo."
   ]
  },
  {
   "cell_type": "code",
   "execution_count": 4,
   "id": "43d04dc8",
   "metadata": {},
   "outputs": [
    {
     "name": "stdout",
     "output_type": "stream",
     "text": [
      "Bem-vindo ao jogo dos 21 fósforos!\n",
      "Modo de jogo:\n",
      "1 - Você começa\n",
      "2 - O computador\n",
      "\n",
      "Fósforos restantes: 21\n",
      "O computador tirou 4 fósforos.\n",
      "\n",
      "Fósforos restantes: 17\n",
      "\n",
      "Fósforos restantes: 16\n",
      "O computador tirou 4 fósforos.\n",
      "\n",
      "Fósforos restantes: 12\n",
      "\n",
      "Fósforos restantes: 8\n",
      "O computador tirou 2 fósforos.\n",
      "\n",
      "Fósforos restantes: 6\n",
      "\n",
      "Fósforos restantes: 2\n",
      "O computador tirou 1 fósforos.\n",
      "\n",
      "Fósforos restantes: 1\n",
      "Você tirou o último fósforo. Você perdeu!\n"
     ]
    }
   ],
   "source": [
    "def jogar(primeirojogador):\n",
    "    fosforos = 21\n",
    "    jogador_atual = primeirojogador  \n",
    "\n",
    "    while fosforos > 0:\n",
    "        print(f\"\\nFósforos restantes: {fosforos}\")\n",
    "        \n",
    "        if jogador_atual == 'usuario':\n",
    "            # Jogada do usuário\n",
    "            jogada = int(input(\"Sua vez! Escolha quantos fósforos tirar (1 a 4): \"))\n",
    "            while jogada < 1 or jogada > 4 or jogada > fosforos:\n",
    "                jogada = int(input(f\"Jogada inválida! Escolha um número entre 1 e {min(4, fosforos)}: \"))\n",
    "            fosforos -= jogada\n",
    "            if fosforos == 0:\n",
    "                print(\"Você tirou o último fósforo. Você perdeu!\")\n",
    "                break\n",
    "            jogador_atual = 'computador'\n",
    "        else:\n",
    "            # Jogada do computador\n",
    "            jogada = jogada_computador(fosforos)\n",
    "            print(f\"O computador tirou {jogada} fósforos.\")\n",
    "            fosforos -= jogada\n",
    "            if fosforos == 0:\n",
    "                print(\"O computador tirou o último fósforo. Você venceu!\")\n",
    "                break\n",
    "            jogador_atual = 'usuario'\n",
    "\n",
    "def jogada_computador(fosforos):\n",
    "    import random\n",
    "    jogada = (fosforos - 1) % 5\n",
    "    if jogada == 0:\n",
    "        jogada = random.randint(1, min(4, fosforos))\n",
    "    return jogada\n",
    "\n",
    "def main():\n",
    "    print(\"Bem-vindo ao jogo dos 21 fósforos!\")\n",
    "    print(\"Modo de jogo:\")\n",
    "    print(\"1 - Você começa\")\n",
    "    print(\"2 - O computador\")\n",
    "    \n",
    "    modo = int(input(\"Escolha o modo (1 ou 2): \"))\n",
    "    while modo not in [1, 2]:\n",
    "        modo = int(input(\"Modo inválido! Escolha 1 ou 2: \"))\n",
    "\n",
    "    if modo == 1:\n",
    "        jogar('usuario')\n",
    "    else:\n",
    "        jogar('computador')\n",
    "\n",
    "main()"
   ]
  }
 ],
 "metadata": {
  "kernelspec": {
   "display_name": "Python 3",
   "language": "python",
   "name": "python3"
  },
  "language_info": {
   "codemirror_mode": {
    "name": "ipython",
    "version": 3
   },
   "file_extension": ".py",
   "mimetype": "text/x-python",
   "name": "python",
   "nbconvert_exporter": "python",
   "pygments_lexer": "ipython3",
   "version": "3.11.9"
  }
 },
 "nbformat": 4,
 "nbformat_minor": 5
}
